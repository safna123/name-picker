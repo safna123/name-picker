{
  "nbformat": 4,
  "nbformat_minor": 0,
  "metadata": {
    "colab": {
      "name": "name picker",
      "provenance": [],
      "collapsed_sections": [],
      "authorship_tag": "ABX9TyO+ej7LoM8i8YX4ldh3rwRi",
      "include_colab_link": true
    },
    "kernelspec": {
      "name": "python3",
      "display_name": "Python 3"
    }
  },
  "cells": [
    {
      "cell_type": "markdown",
      "metadata": {
        "id": "view-in-github",
        "colab_type": "text"
      },
      "source": [
        "<a href=\"https://colab.research.google.com/github/safna123/name-picker/blob/main/name_picker.ipynb\" target=\"_parent\"><img src=\"https://colab.research.google.com/assets/colab-badge.svg\" alt=\"Open In Colab\"/></a>"
      ]
    },
    {
      "cell_type": "code",
      "metadata": {
        "colab": {
          "base_uri": "https://localhost:8080/"
        },
        "id": "Z0h-Zq5lBpLQ",
        "outputId": "4525e1b6-6eed-4fc1-fac6-29dae6a8bfd5"
      },
      "source": [
        "import random\r\n",
        "storage = []\r\n",
        "for x in range(0,8):\r\n",
        "  names = input(\"Enter a name: \")\r\n",
        "  storage.append(names)\r\n",
        "random_names = random.choice(storage)\r\n",
        "print(random_names)"
      ],
      "execution_count": null,
      "outputs": [
        {
          "output_type": "stream",
          "text": [
            "Enter a name: peter\n",
            "Enter a name: sally\n",
            "Enter a name: john\n",
            "Enter a name: kim\n",
            "Enter a name: lilly\n",
            "Enter a name: sweety\n",
            "Enter a name: pam\n",
            "Enter a name: harry\n",
            "peter\n"
          ],
          "name": "stdout"
        }
      ]
    }
  ]
}